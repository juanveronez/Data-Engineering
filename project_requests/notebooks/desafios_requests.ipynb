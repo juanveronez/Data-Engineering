{
 "cells": [
  {
   "cell_type": "code",
   "execution_count": 3,
   "metadata": {},
   "outputs": [],
   "source": [
    "import requests as req\n"
   ]
  },
  {
   "cell_type": "markdown",
   "metadata": {},
   "source": [
    "# Desafio 1\n",
    "\n",
    "Faça uma requisição GET à API do Github para obter as informações do perfil de um usuário específico. Para isso, utilize a biblioteca Requests do Python e a URL https://api.github.com/users/{username}, substituindo {username} pelo nome de usuário desejado.\n",
    "\n",
    "Com o objeto response retornado pela requisição, imprima na tela as seguintes informações sobre a requisição:\n",
    "\n",
    "* status code da requisição, para analisar se foi bem sucedida ou não;\n",
    "* conteúdo da requisição, para conferir se os dados de usuário vieram corretamente;\n",
    "* URL da requisição feita, para garantir que a url utilizada na requisição foi a correta.\n",
    "\n",
    "Após conferir isso, analise novamente o conteúdo retornado pela requisição e imprima na tela apenas as seguintes informações sobre a pessoa usuária em questão:\n",
    "\n",
    "* Nome\n",
    "* Nome de usuário\n",
    "* Número de repositórios públicos\n",
    "* Data de criação da conta no GitHub\n"
   ]
  },
  {
   "cell_type": "code",
   "execution_count": 38,
   "metadata": {},
   "outputs": [
    {
     "name": "stdout",
     "output_type": "stream",
     "text": [
      "Abaixo veremos uma request que não vai dar certo por conta do user não existir.\n"
     ]
    },
    {
     "data": {
      "text/plain": [
       "{'message': 'Not Found',\n",
       " 'documentation_url': 'https://docs.github.com/rest',\n",
       " 'status': '404'}"
      ]
     },
     "execution_count": 38,
     "metadata": {},
     "output_type": "execute_result"
    }
   ],
   "source": [
    "username = 'not-valid-user'\n",
    "\n",
    "print('Abaixo veremos uma request que não vai dar certo por conta do user não existir.')\n",
    "\n",
    "req.get(f'https://api.github.com/users/{username}').json()\n"
   ]
  },
  {
   "cell_type": "code",
   "execution_count": 39,
   "metadata": {},
   "outputs": [],
   "source": [
    "username = 'juanveronez'\n",
    "res = req.get(f'https://api.github.com/users/{username}')\n"
   ]
  },
  {
   "cell_type": "code",
   "execution_count": 40,
   "metadata": {},
   "outputs": [
    {
     "name": "stdout",
     "output_type": "stream",
     "text": [
      "Status Code: 200\n",
      "Url: https://api.github.com/users/juanveronez\n",
      "\n",
      "Conteúdo da requisição:\n",
      "{'login': 'juanveronez', 'id': 37226530, 'node_id': 'MDQ6VXNlcjM3MjI2NTMw', 'avatar_url': 'https://avatars.githubusercontent.com/u/37226530?v=4', 'gravatar_id': '', 'url': 'https://api.github.com/users/juanveronez', 'html_url': 'https://github.com/juanveronez', 'followers_url': 'https://api.github.com/users/juanveronez/followers', 'following_url': 'https://api.github.com/users/juanveronez/following{/other_user}', 'gists_url': 'https://api.github.com/users/juanveronez/gists{/gist_id}', 'starred_url': 'https://api.github.com/users/juanveronez/starred{/owner}{/repo}', 'subscriptions_url': 'https://api.github.com/users/juanveronez/subscriptions', 'organizations_url': 'https://api.github.com/users/juanveronez/orgs', 'repos_url': 'https://api.github.com/users/juanveronez/repos', 'events_url': 'https://api.github.com/users/juanveronez/events{/privacy}', 'received_events_url': 'https://api.github.com/users/juanveronez/received_events', 'type': 'User', 'site_admin': False, 'name': 'Juan Veronez', 'company': '@venturus-org', 'blog': 'https://www.linkedin.com/in/juanveronez/', 'location': 'Campinas, São Paulo - Brasil', 'email': None, 'hireable': None, 'bio': 'Data Analyst', 'twitter_username': None, 'public_repos': 8, 'public_gists': 0, 'followers': 13, 'following': 10, 'created_at': '2018-03-09T20:36:08Z', 'updated_at': '2024-09-21T18:16:49Z'}\n"
     ]
    }
   ],
   "source": [
    "print(f'Status Code: {res.status_code}')\n",
    "print(f'Url: {res.url}')\n",
    "print(f'\\nConteúdo da requisição:\\n{res.json()}')\n"
   ]
  },
  {
   "cell_type": "code",
   "execution_count": 41,
   "metadata": {},
   "outputs": [
    {
     "data": {
      "text/plain": [
       "dict"
      ]
     },
     "execution_count": 41,
     "metadata": {},
     "output_type": "execute_result"
    }
   ],
   "source": [
    "json = res.json()\n",
    "type(json)\n"
   ]
  },
  {
   "cell_type": "code",
   "execution_count": 42,
   "metadata": {},
   "outputs": [
    {
     "name": "stdout",
     "output_type": "stream",
     "text": [
      "Nome: Juan Veronez\n",
      "Nome de usuário: juanveronez\n",
      "Número de repositórios públicos: 8\n",
      "Data de criação da conta no GitHub: 2018-03-09T20:36:08Z\n"
     ]
    }
   ],
   "source": [
    "print(f'Nome: {json['name']}')\n",
    "print(f'Nome de usuário: {json['login']}')\n",
    "print(f'Número de repositórios públicos: {json['public_repos']}')\n",
    "print(f'Data de criação da conta no GitHub: {json['created_at']}')\n"
   ]
  },
  {
   "cell_type": "markdown",
   "metadata": {},
   "source": [
    "# Desafio 02"
   ]
  },
  {
   "cell_type": "code",
   "execution_count": 43,
   "metadata": {},
   "outputs": [
    {
     "name": "stdout",
     "output_type": "stream",
     "text": [
      "Requirement already satisfied: python-dotenv in /opt/anaconda3/lib/python3.12/site-packages (0.21.0)\n",
      "Note: you may need to restart the kernel to use updated packages.\n"
     ]
    }
   ],
   "source": [
    "%pip install python-dotenv\n"
   ]
  },
  {
   "cell_type": "code",
   "execution_count": 1,
   "metadata": {},
   "outputs": [],
   "source": [
    "from os import getenv\n",
    "from dotenv import load_dotenv\n",
    "\n",
    "load_dotenv()\n",
    "\n",
    "access_token = getenv('GITHUB_ACCESS_TOKEN')\n",
    "\n",
    "headers = {'X-GitHub-Api-Version': '2022-11-28',\n",
    "           'Authorization': f'Bearer {access_token}'}\n"
   ]
  },
  {
   "cell_type": "code",
   "execution_count": 46,
   "metadata": {},
   "outputs": [],
   "source": [
    "username = 'amzn'\n",
    "url = f\"https://api.github.com/users/{username}/followers\"\n",
    "\n",
    "response = req.get(url, headers)\n",
    "followers = response.json()\n"
   ]
  },
  {
   "cell_type": "code",
   "execution_count": 47,
   "metadata": {},
   "outputs": [
    {
     "name": "stdout",
     "output_type": "stream",
     "text": [
      "Lista de páginas: 17\n",
      "Lista de followers: 1623\n"
     ]
    }
   ],
   "source": [
    "followers_lists = []\n",
    "while True:\n",
    "    try:\n",
    "        list_index = len(followers_lists) + 1\n",
    "        page_url = f'{url}?per_page=100&page={list_index}'\n",
    "\n",
    "        list = req.get(page_url, headers).json()\n",
    "\n",
    "        if len(list) == 0:\n",
    "            break\n",
    "        \n",
    "        followers_lists.append(list)\n",
    "    except:\n",
    "        print('Error while loading followers')\n",
    "        followers_lists.append(None)\n",
    "\n",
    "all_followers = []\n",
    "[all_followers.extend(followers) for followers in followers_lists]\n",
    "\n",
    "print('Lista de páginas:',len(followers_lists))\n",
    "print('Lista de followers:', len(all_followers))\n"
   ]
  },
  {
   "cell_type": "markdown",
   "metadata": {},
   "source": [
    "# Desafio 03\n",
    "\n",
    "No desafio da aula 2 nós extraímos os dados de todos os seguidores da conta do Github da Amazon e armazenamos eles na lista \"followers_list\". Considerando isso, nossa tarefa agora é aplicar as transformações necessárias nos dados armazenados na lista followers_list para selecionarmos apenas o nome de usuário de cada seguidor.\n",
    "\n",
    "Para concluirmos essa tarefa é importante:\n",
    "\n",
    "* entender como os dados dos seguidores estão estruturados na lista;\n",
    "* armazenar o nome de usuário de cada seguidor em uma lista;\n",
    "* conferir o tamanho da lista de nomes de usuário de seguidores para ter certeza que é igual ao número de seguidores apresentados no Github;\n",
    "* estruturar os dados em um DataFrame e salvá-los em CSV.\n"
   ]
  },
  {
   "cell_type": "code",
   "execution_count": 48,
   "metadata": {
    "scrolled": true
   },
   "outputs": [
    {
     "data": {
      "text/plain": [
       "'tkersey'"
      ]
     },
     "execution_count": 48,
     "metadata": {},
     "output_type": "execute_result"
    }
   ],
   "source": [
    "followers_lists[0][0]['login']\n"
   ]
  },
  {
   "cell_type": "code",
   "execution_count": 49,
   "metadata": {},
   "outputs": [
    {
     "data": {
      "text/plain": [
       "['tkersey',\n",
       " 'njonsson',\n",
       " 'bangpound',\n",
       " 'vincentkoc',\n",
       " 'Rud5G',\n",
       " 'mlsj1',\n",
       " 'syug',\n",
       " 'esneko',\n",
       " 'neopunisher',\n",
       " 'jazzwang']"
      ]
     },
     "execution_count": 49,
     "metadata": {},
     "output_type": "execute_result"
    }
   ],
   "source": [
    "followers_lists[0][0]['login']\n",
    "\n",
    "followers_login = [follower['login'] for followers in followers_lists for follower in followers]\n",
    "followers_login[:10]\n"
   ]
  },
  {
   "cell_type": "code",
   "execution_count": 50,
   "metadata": {},
   "outputs": [
    {
     "data": {
      "text/html": [
       "<div>\n",
       "<style scoped>\n",
       "    .dataframe tbody tr th:only-of-type {\n",
       "        vertical-align: middle;\n",
       "    }\n",
       "\n",
       "    .dataframe tbody tr th {\n",
       "        vertical-align: top;\n",
       "    }\n",
       "\n",
       "    .dataframe thead th {\n",
       "        text-align: right;\n",
       "    }\n",
       "</style>\n",
       "<table border=\"1\" class=\"dataframe\">\n",
       "  <thead>\n",
       "    <tr style=\"text-align: right;\">\n",
       "      <th></th>\n",
       "      <th>follower_login</th>\n",
       "    </tr>\n",
       "  </thead>\n",
       "  <tbody>\n",
       "    <tr>\n",
       "      <th>0</th>\n",
       "      <td>tkersey</td>\n",
       "    </tr>\n",
       "    <tr>\n",
       "      <th>1</th>\n",
       "      <td>njonsson</td>\n",
       "    </tr>\n",
       "    <tr>\n",
       "      <th>2</th>\n",
       "      <td>bangpound</td>\n",
       "    </tr>\n",
       "    <tr>\n",
       "      <th>3</th>\n",
       "      <td>vincentkoc</td>\n",
       "    </tr>\n",
       "    <tr>\n",
       "      <th>4</th>\n",
       "      <td>Rud5G</td>\n",
       "    </tr>\n",
       "  </tbody>\n",
       "</table>\n",
       "</div>"
      ],
      "text/plain": [
       "  follower_login\n",
       "0        tkersey\n",
       "1       njonsson\n",
       "2      bangpound\n",
       "3     vincentkoc\n",
       "4          Rud5G"
      ]
     },
     "execution_count": 50,
     "metadata": {},
     "output_type": "execute_result"
    }
   ],
   "source": [
    "import pandas as pd\n",
    "\n",
    "amzn_followers = pd.DataFrame({ 'follower_login': followers_login })\n",
    "amzn_followers.head()\n"
   ]
  },
  {
   "cell_type": "code",
   "execution_count": 52,
   "metadata": {},
   "outputs": [],
   "source": [
    "amzn_followers.to_csv('../data_processed/amazon_followers.csv', index=False)\n"
   ]
  },
  {
   "cell_type": "markdown",
   "metadata": {},
   "source": [
    "# Desafio 04\n",
    "\n",
    "Nossa próxima tarefa é realizar o fork de um repositório da Amazon utilizando uma requisição do tipo POST.\n",
    "\n",
    "> Fazer um fork de um repositório é como criar uma cópia de um projeto que pertence a outra pessoa ou organização dentro do seu próprio perfil no GitHub. Isso permite que você trabalhe em uma versão do projeto sem afetar o original, podendo fazer modificações, correções de bugs e melhorias.\n",
    "\n",
    "Após analisar a documentação, é importante não esquecermos de realizar alguns passos:\n",
    "\n",
    "- conferir o endpoint que deve ser utilizado para realização do fork;\n",
    "- acessar os repositórios públicos da Amazon, selecionar um deles para fazer o fork e salvar seu nome em uma variável;\n",
    "- enviar o token e a versão da API no momento de fazer a requisição.\n"
   ]
  },
  {
   "cell_type": "code",
   "execution_count": 4,
   "metadata": {},
   "outputs": [
    {
     "data": {
      "text/plain": [
       "'https://api.github.com/repos/amzn/amazon-marketing-stream-examples/forks'"
      ]
     },
     "execution_count": 4,
     "metadata": {},
     "output_type": "execute_result"
    }
   ],
   "source": [
    "base_url = 'https://api.github.com'\n",
    "owner = 'amzn'\n",
    "repo = 'amazon-marketing-stream-examples'\n",
    "url = f'{base_url}/repos/{owner}/{repo}/forks'\n",
    "\n",
    "url\n"
   ]
  },
  {
   "cell_type": "code",
   "execution_count": 5,
   "metadata": {},
   "outputs": [
    {
     "data": {
      "text/plain": [
       "{'id': 861245270,\n",
       " 'node_id': 'R_kgDOM1WPVg',\n",
       " 'name': 'amazon-marketing-stream-examples',\n",
       " 'full_name': 'juanveronez/amazon-marketing-stream-examples',\n",
       " 'private': False,\n",
       " 'owner': {'login': 'juanveronez',\n",
       "  'id': 37226530,\n",
       "  'node_id': 'MDQ6VXNlcjM3MjI2NTMw',\n",
       "  'avatar_url': 'https://avatars.githubusercontent.com/u/37226530?v=4',\n",
       "  'gravatar_id': '',\n",
       "  'url': 'https://api.github.com/users/juanveronez',\n",
       "  'html_url': 'https://github.com/juanveronez',\n",
       "  'followers_url': 'https://api.github.com/users/juanveronez/followers',\n",
       "  'following_url': 'https://api.github.com/users/juanveronez/following{/other_user}',\n",
       "  'gists_url': 'https://api.github.com/users/juanveronez/gists{/gist_id}',\n",
       "  'starred_url': 'https://api.github.com/users/juanveronez/starred{/owner}{/repo}',\n",
       "  'subscriptions_url': 'https://api.github.com/users/juanveronez/subscriptions',\n",
       "  'organizations_url': 'https://api.github.com/users/juanveronez/orgs',\n",
       "  'repos_url': 'https://api.github.com/users/juanveronez/repos',\n",
       "  'events_url': 'https://api.github.com/users/juanveronez/events{/privacy}',\n",
       "  'received_events_url': 'https://api.github.com/users/juanveronez/received_events',\n",
       "  'type': 'User',\n",
       "  'site_admin': False},\n",
       " 'html_url': 'https://github.com/juanveronez/amazon-marketing-stream-examples',\n",
       " 'description': 'Amazon Marketing Stream reference implementation using AWS CDK',\n",
       " 'fork': True,\n",
       " 'url': 'https://api.github.com/repos/juanveronez/amazon-marketing-stream-examples',\n",
       " 'forks_url': 'https://api.github.com/repos/juanveronez/amazon-marketing-stream-examples/forks',\n",
       " 'keys_url': 'https://api.github.com/repos/juanveronez/amazon-marketing-stream-examples/keys{/key_id}',\n",
       " 'collaborators_url': 'https://api.github.com/repos/juanveronez/amazon-marketing-stream-examples/collaborators{/collaborator}',\n",
       " 'teams_url': 'https://api.github.com/repos/juanveronez/amazon-marketing-stream-examples/teams',\n",
       " 'hooks_url': 'https://api.github.com/repos/juanveronez/amazon-marketing-stream-examples/hooks',\n",
       " 'issue_events_url': 'https://api.github.com/repos/juanveronez/amazon-marketing-stream-examples/issues/events{/number}',\n",
       " 'events_url': 'https://api.github.com/repos/juanveronez/amazon-marketing-stream-examples/events',\n",
       " 'assignees_url': 'https://api.github.com/repos/juanveronez/amazon-marketing-stream-examples/assignees{/user}',\n",
       " 'branches_url': 'https://api.github.com/repos/juanveronez/amazon-marketing-stream-examples/branches{/branch}',\n",
       " 'tags_url': 'https://api.github.com/repos/juanveronez/amazon-marketing-stream-examples/tags',\n",
       " 'blobs_url': 'https://api.github.com/repos/juanveronez/amazon-marketing-stream-examples/git/blobs{/sha}',\n",
       " 'git_tags_url': 'https://api.github.com/repos/juanveronez/amazon-marketing-stream-examples/git/tags{/sha}',\n",
       " 'git_refs_url': 'https://api.github.com/repos/juanveronez/amazon-marketing-stream-examples/git/refs{/sha}',\n",
       " 'trees_url': 'https://api.github.com/repos/juanveronez/amazon-marketing-stream-examples/git/trees{/sha}',\n",
       " 'statuses_url': 'https://api.github.com/repos/juanveronez/amazon-marketing-stream-examples/statuses/{sha}',\n",
       " 'languages_url': 'https://api.github.com/repos/juanveronez/amazon-marketing-stream-examples/languages',\n",
       " 'stargazers_url': 'https://api.github.com/repos/juanveronez/amazon-marketing-stream-examples/stargazers',\n",
       " 'contributors_url': 'https://api.github.com/repos/juanveronez/amazon-marketing-stream-examples/contributors',\n",
       " 'subscribers_url': 'https://api.github.com/repos/juanveronez/amazon-marketing-stream-examples/subscribers',\n",
       " 'subscription_url': 'https://api.github.com/repos/juanveronez/amazon-marketing-stream-examples/subscription',\n",
       " 'commits_url': 'https://api.github.com/repos/juanveronez/amazon-marketing-stream-examples/commits{/sha}',\n",
       " 'git_commits_url': 'https://api.github.com/repos/juanveronez/amazon-marketing-stream-examples/git/commits{/sha}',\n",
       " 'comments_url': 'https://api.github.com/repos/juanveronez/amazon-marketing-stream-examples/comments{/number}',\n",
       " 'issue_comment_url': 'https://api.github.com/repos/juanveronez/amazon-marketing-stream-examples/issues/comments{/number}',\n",
       " 'contents_url': 'https://api.github.com/repos/juanveronez/amazon-marketing-stream-examples/contents/{+path}',\n",
       " 'compare_url': 'https://api.github.com/repos/juanveronez/amazon-marketing-stream-examples/compare/{base}...{head}',\n",
       " 'merges_url': 'https://api.github.com/repos/juanveronez/amazon-marketing-stream-examples/merges',\n",
       " 'archive_url': 'https://api.github.com/repos/juanveronez/amazon-marketing-stream-examples/{archive_format}{/ref}',\n",
       " 'downloads_url': 'https://api.github.com/repos/juanveronez/amazon-marketing-stream-examples/downloads',\n",
       " 'issues_url': 'https://api.github.com/repos/juanveronez/amazon-marketing-stream-examples/issues{/number}',\n",
       " 'pulls_url': 'https://api.github.com/repos/juanveronez/amazon-marketing-stream-examples/pulls{/number}',\n",
       " 'milestones_url': 'https://api.github.com/repos/juanveronez/amazon-marketing-stream-examples/milestones{/number}',\n",
       " 'notifications_url': 'https://api.github.com/repos/juanveronez/amazon-marketing-stream-examples/notifications{?since,all,participating}',\n",
       " 'labels_url': 'https://api.github.com/repos/juanveronez/amazon-marketing-stream-examples/labels{/name}',\n",
       " 'releases_url': 'https://api.github.com/repos/juanveronez/amazon-marketing-stream-examples/releases{/id}',\n",
       " 'deployments_url': 'https://api.github.com/repos/juanveronez/amazon-marketing-stream-examples/deployments',\n",
       " 'created_at': '2024-09-22T11:54:51Z',\n",
       " 'updated_at': '2024-09-22T11:54:51Z',\n",
       " 'pushed_at': '2024-08-30T17:55:25Z',\n",
       " 'git_url': 'git://github.com/juanveronez/amazon-marketing-stream-examples.git',\n",
       " 'ssh_url': 'git@github.com:juanveronez/amazon-marketing-stream-examples.git',\n",
       " 'clone_url': 'https://github.com/juanveronez/amazon-marketing-stream-examples.git',\n",
       " 'svn_url': 'https://github.com/juanveronez/amazon-marketing-stream-examples',\n",
       " 'homepage': 'https://advertising.amazon.com/API/docs/en-us/amazon-marketing-stream/overview',\n",
       " 'size': 1078,\n",
       " 'stargazers_count': 0,\n",
       " 'watchers_count': 0,\n",
       " 'language': None,\n",
       " 'has_issues': False,\n",
       " 'has_projects': True,\n",
       " 'has_downloads': True,\n",
       " 'has_wiki': True,\n",
       " 'has_pages': False,\n",
       " 'has_discussions': False,\n",
       " 'forks_count': 0,\n",
       " 'mirror_url': None,\n",
       " 'archived': False,\n",
       " 'disabled': False,\n",
       " 'open_issues_count': 0,\n",
       " 'license': None,\n",
       " 'allow_forking': True,\n",
       " 'is_template': False,\n",
       " 'web_commit_signoff_required': False,\n",
       " 'topics': [],\n",
       " 'visibility': 'public',\n",
       " 'forks': 0,\n",
       " 'open_issues': 0,\n",
       " 'watchers': 0,\n",
       " 'default_branch': 'main',\n",
       " 'permissions': {'admin': True,\n",
       "  'maintain': True,\n",
       "  'push': True,\n",
       "  'triage': True,\n",
       "  'pull': True},\n",
       " 'parent': {'id': 602274745,\n",
       "  'node_id': 'R_kgDOI-X7uQ',\n",
       "  'name': 'amazon-marketing-stream-examples',\n",
       "  'full_name': 'amzn/amazon-marketing-stream-examples',\n",
       "  'private': False,\n",
       "  'owner': {'login': 'amzn',\n",
       "   'id': 8594673,\n",
       "   'node_id': 'MDEyOk9yZ2FuaXphdGlvbjg1OTQ2NzM=',\n",
       "   'avatar_url': 'https://avatars.githubusercontent.com/u/8594673?v=4',\n",
       "   'gravatar_id': '',\n",
       "   'url': 'https://api.github.com/users/amzn',\n",
       "   'html_url': 'https://github.com/amzn',\n",
       "   'followers_url': 'https://api.github.com/users/amzn/followers',\n",
       "   'following_url': 'https://api.github.com/users/amzn/following{/other_user}',\n",
       "   'gists_url': 'https://api.github.com/users/amzn/gists{/gist_id}',\n",
       "   'starred_url': 'https://api.github.com/users/amzn/starred{/owner}{/repo}',\n",
       "   'subscriptions_url': 'https://api.github.com/users/amzn/subscriptions',\n",
       "   'organizations_url': 'https://api.github.com/users/amzn/orgs',\n",
       "   'repos_url': 'https://api.github.com/users/amzn/repos',\n",
       "   'events_url': 'https://api.github.com/users/amzn/events{/privacy}',\n",
       "   'received_events_url': 'https://api.github.com/users/amzn/received_events',\n",
       "   'type': 'Organization',\n",
       "   'site_admin': False},\n",
       "  'html_url': 'https://github.com/amzn/amazon-marketing-stream-examples',\n",
       "  'description': 'Amazon Marketing Stream reference implementation using AWS CDK',\n",
       "  'fork': False,\n",
       "  'url': 'https://api.github.com/repos/amzn/amazon-marketing-stream-examples',\n",
       "  'forks_url': 'https://api.github.com/repos/amzn/amazon-marketing-stream-examples/forks',\n",
       "  'keys_url': 'https://api.github.com/repos/amzn/amazon-marketing-stream-examples/keys{/key_id}',\n",
       "  'collaborators_url': 'https://api.github.com/repos/amzn/amazon-marketing-stream-examples/collaborators{/collaborator}',\n",
       "  'teams_url': 'https://api.github.com/repos/amzn/amazon-marketing-stream-examples/teams',\n",
       "  'hooks_url': 'https://api.github.com/repos/amzn/amazon-marketing-stream-examples/hooks',\n",
       "  'issue_events_url': 'https://api.github.com/repos/amzn/amazon-marketing-stream-examples/issues/events{/number}',\n",
       "  'events_url': 'https://api.github.com/repos/amzn/amazon-marketing-stream-examples/events',\n",
       "  'assignees_url': 'https://api.github.com/repos/amzn/amazon-marketing-stream-examples/assignees{/user}',\n",
       "  'branches_url': 'https://api.github.com/repos/amzn/amazon-marketing-stream-examples/branches{/branch}',\n",
       "  'tags_url': 'https://api.github.com/repos/amzn/amazon-marketing-stream-examples/tags',\n",
       "  'blobs_url': 'https://api.github.com/repos/amzn/amazon-marketing-stream-examples/git/blobs{/sha}',\n",
       "  'git_tags_url': 'https://api.github.com/repos/amzn/amazon-marketing-stream-examples/git/tags{/sha}',\n",
       "  'git_refs_url': 'https://api.github.com/repos/amzn/amazon-marketing-stream-examples/git/refs{/sha}',\n",
       "  'trees_url': 'https://api.github.com/repos/amzn/amazon-marketing-stream-examples/git/trees{/sha}',\n",
       "  'statuses_url': 'https://api.github.com/repos/amzn/amazon-marketing-stream-examples/statuses/{sha}',\n",
       "  'languages_url': 'https://api.github.com/repos/amzn/amazon-marketing-stream-examples/languages',\n",
       "  'stargazers_url': 'https://api.github.com/repos/amzn/amazon-marketing-stream-examples/stargazers',\n",
       "  'contributors_url': 'https://api.github.com/repos/amzn/amazon-marketing-stream-examples/contributors',\n",
       "  'subscribers_url': 'https://api.github.com/repos/amzn/amazon-marketing-stream-examples/subscribers',\n",
       "  'subscription_url': 'https://api.github.com/repos/amzn/amazon-marketing-stream-examples/subscription',\n",
       "  'commits_url': 'https://api.github.com/repos/amzn/amazon-marketing-stream-examples/commits{/sha}',\n",
       "  'git_commits_url': 'https://api.github.com/repos/amzn/amazon-marketing-stream-examples/git/commits{/sha}',\n",
       "  'comments_url': 'https://api.github.com/repos/amzn/amazon-marketing-stream-examples/comments{/number}',\n",
       "  'issue_comment_url': 'https://api.github.com/repos/amzn/amazon-marketing-stream-examples/issues/comments{/number}',\n",
       "  'contents_url': 'https://api.github.com/repos/amzn/amazon-marketing-stream-examples/contents/{+path}',\n",
       "  'compare_url': 'https://api.github.com/repos/amzn/amazon-marketing-stream-examples/compare/{base}...{head}',\n",
       "  'merges_url': 'https://api.github.com/repos/amzn/amazon-marketing-stream-examples/merges',\n",
       "  'archive_url': 'https://api.github.com/repos/amzn/amazon-marketing-stream-examples/{archive_format}{/ref}',\n",
       "  'downloads_url': 'https://api.github.com/repos/amzn/amazon-marketing-stream-examples/downloads',\n",
       "  'issues_url': 'https://api.github.com/repos/amzn/amazon-marketing-stream-examples/issues{/number}',\n",
       "  'pulls_url': 'https://api.github.com/repos/amzn/amazon-marketing-stream-examples/pulls{/number}',\n",
       "  'milestones_url': 'https://api.github.com/repos/amzn/amazon-marketing-stream-examples/milestones{/number}',\n",
       "  'notifications_url': 'https://api.github.com/repos/amzn/amazon-marketing-stream-examples/notifications{?since,all,participating}',\n",
       "  'labels_url': 'https://api.github.com/repos/amzn/amazon-marketing-stream-examples/labels{/name}',\n",
       "  'releases_url': 'https://api.github.com/repos/amzn/amazon-marketing-stream-examples/releases{/id}',\n",
       "  'deployments_url': 'https://api.github.com/repos/amzn/amazon-marketing-stream-examples/deployments',\n",
       "  'created_at': '2023-02-15T21:33:26Z',\n",
       "  'updated_at': '2024-08-30T17:55:29Z',\n",
       "  'pushed_at': '2024-08-30T17:55:25Z',\n",
       "  'git_url': 'git://github.com/amzn/amazon-marketing-stream-examples.git',\n",
       "  'ssh_url': 'git@github.com:amzn/amazon-marketing-stream-examples.git',\n",
       "  'clone_url': 'https://github.com/amzn/amazon-marketing-stream-examples.git',\n",
       "  'svn_url': 'https://github.com/amzn/amazon-marketing-stream-examples',\n",
       "  'homepage': 'https://advertising.amazon.com/API/docs/en-us/amazon-marketing-stream/overview',\n",
       "  'size': 1078,\n",
       "  'stargazers_count': 10,\n",
       "  'watchers_count': 10,\n",
       "  'language': 'Python',\n",
       "  'has_issues': True,\n",
       "  'has_projects': True,\n",
       "  'has_downloads': True,\n",
       "  'has_wiki': True,\n",
       "  'has_pages': False,\n",
       "  'has_discussions': False,\n",
       "  'forks_count': 13,\n",
       "  'mirror_url': None,\n",
       "  'archived': False,\n",
       "  'disabled': False,\n",
       "  'open_issues_count': 3,\n",
       "  'license': {'key': 'mit-0',\n",
       "   'name': 'MIT No Attribution',\n",
       "   'spdx_id': 'MIT-0',\n",
       "   'url': 'https://api.github.com/licenses/mit-0',\n",
       "   'node_id': 'MDc6TGljZW5zZTQx'},\n",
       "  'allow_forking': True,\n",
       "  'is_template': False,\n",
       "  'web_commit_signoff_required': False,\n",
       "  'topics': ['amazon-ads-api', 'amazon-marketing-stream'],\n",
       "  'visibility': 'public',\n",
       "  'forks': 13,\n",
       "  'open_issues': 3,\n",
       "  'watchers': 10,\n",
       "  'default_branch': 'main'},\n",
       " 'source': {'id': 602274745,\n",
       "  'node_id': 'R_kgDOI-X7uQ',\n",
       "  'name': 'amazon-marketing-stream-examples',\n",
       "  'full_name': 'amzn/amazon-marketing-stream-examples',\n",
       "  'private': False,\n",
       "  'owner': {'login': 'amzn',\n",
       "   'id': 8594673,\n",
       "   'node_id': 'MDEyOk9yZ2FuaXphdGlvbjg1OTQ2NzM=',\n",
       "   'avatar_url': 'https://avatars.githubusercontent.com/u/8594673?v=4',\n",
       "   'gravatar_id': '',\n",
       "   'url': 'https://api.github.com/users/amzn',\n",
       "   'html_url': 'https://github.com/amzn',\n",
       "   'followers_url': 'https://api.github.com/users/amzn/followers',\n",
       "   'following_url': 'https://api.github.com/users/amzn/following{/other_user}',\n",
       "   'gists_url': 'https://api.github.com/users/amzn/gists{/gist_id}',\n",
       "   'starred_url': 'https://api.github.com/users/amzn/starred{/owner}{/repo}',\n",
       "   'subscriptions_url': 'https://api.github.com/users/amzn/subscriptions',\n",
       "   'organizations_url': 'https://api.github.com/users/amzn/orgs',\n",
       "   'repos_url': 'https://api.github.com/users/amzn/repos',\n",
       "   'events_url': 'https://api.github.com/users/amzn/events{/privacy}',\n",
       "   'received_events_url': 'https://api.github.com/users/amzn/received_events',\n",
       "   'type': 'Organization',\n",
       "   'site_admin': False},\n",
       "  'html_url': 'https://github.com/amzn/amazon-marketing-stream-examples',\n",
       "  'description': 'Amazon Marketing Stream reference implementation using AWS CDK',\n",
       "  'fork': False,\n",
       "  'url': 'https://api.github.com/repos/amzn/amazon-marketing-stream-examples',\n",
       "  'forks_url': 'https://api.github.com/repos/amzn/amazon-marketing-stream-examples/forks',\n",
       "  'keys_url': 'https://api.github.com/repos/amzn/amazon-marketing-stream-examples/keys{/key_id}',\n",
       "  'collaborators_url': 'https://api.github.com/repos/amzn/amazon-marketing-stream-examples/collaborators{/collaborator}',\n",
       "  'teams_url': 'https://api.github.com/repos/amzn/amazon-marketing-stream-examples/teams',\n",
       "  'hooks_url': 'https://api.github.com/repos/amzn/amazon-marketing-stream-examples/hooks',\n",
       "  'issue_events_url': 'https://api.github.com/repos/amzn/amazon-marketing-stream-examples/issues/events{/number}',\n",
       "  'events_url': 'https://api.github.com/repos/amzn/amazon-marketing-stream-examples/events',\n",
       "  'assignees_url': 'https://api.github.com/repos/amzn/amazon-marketing-stream-examples/assignees{/user}',\n",
       "  'branches_url': 'https://api.github.com/repos/amzn/amazon-marketing-stream-examples/branches{/branch}',\n",
       "  'tags_url': 'https://api.github.com/repos/amzn/amazon-marketing-stream-examples/tags',\n",
       "  'blobs_url': 'https://api.github.com/repos/amzn/amazon-marketing-stream-examples/git/blobs{/sha}',\n",
       "  'git_tags_url': 'https://api.github.com/repos/amzn/amazon-marketing-stream-examples/git/tags{/sha}',\n",
       "  'git_refs_url': 'https://api.github.com/repos/amzn/amazon-marketing-stream-examples/git/refs{/sha}',\n",
       "  'trees_url': 'https://api.github.com/repos/amzn/amazon-marketing-stream-examples/git/trees{/sha}',\n",
       "  'statuses_url': 'https://api.github.com/repos/amzn/amazon-marketing-stream-examples/statuses/{sha}',\n",
       "  'languages_url': 'https://api.github.com/repos/amzn/amazon-marketing-stream-examples/languages',\n",
       "  'stargazers_url': 'https://api.github.com/repos/amzn/amazon-marketing-stream-examples/stargazers',\n",
       "  'contributors_url': 'https://api.github.com/repos/amzn/amazon-marketing-stream-examples/contributors',\n",
       "  'subscribers_url': 'https://api.github.com/repos/amzn/amazon-marketing-stream-examples/subscribers',\n",
       "  'subscription_url': 'https://api.github.com/repos/amzn/amazon-marketing-stream-examples/subscription',\n",
       "  'commits_url': 'https://api.github.com/repos/amzn/amazon-marketing-stream-examples/commits{/sha}',\n",
       "  'git_commits_url': 'https://api.github.com/repos/amzn/amazon-marketing-stream-examples/git/commits{/sha}',\n",
       "  'comments_url': 'https://api.github.com/repos/amzn/amazon-marketing-stream-examples/comments{/number}',\n",
       "  'issue_comment_url': 'https://api.github.com/repos/amzn/amazon-marketing-stream-examples/issues/comments{/number}',\n",
       "  'contents_url': 'https://api.github.com/repos/amzn/amazon-marketing-stream-examples/contents/{+path}',\n",
       "  'compare_url': 'https://api.github.com/repos/amzn/amazon-marketing-stream-examples/compare/{base}...{head}',\n",
       "  'merges_url': 'https://api.github.com/repos/amzn/amazon-marketing-stream-examples/merges',\n",
       "  'archive_url': 'https://api.github.com/repos/amzn/amazon-marketing-stream-examples/{archive_format}{/ref}',\n",
       "  'downloads_url': 'https://api.github.com/repos/amzn/amazon-marketing-stream-examples/downloads',\n",
       "  'issues_url': 'https://api.github.com/repos/amzn/amazon-marketing-stream-examples/issues{/number}',\n",
       "  'pulls_url': 'https://api.github.com/repos/amzn/amazon-marketing-stream-examples/pulls{/number}',\n",
       "  'milestones_url': 'https://api.github.com/repos/amzn/amazon-marketing-stream-examples/milestones{/number}',\n",
       "  'notifications_url': 'https://api.github.com/repos/amzn/amazon-marketing-stream-examples/notifications{?since,all,participating}',\n",
       "  'labels_url': 'https://api.github.com/repos/amzn/amazon-marketing-stream-examples/labels{/name}',\n",
       "  'releases_url': 'https://api.github.com/repos/amzn/amazon-marketing-stream-examples/releases{/id}',\n",
       "  'deployments_url': 'https://api.github.com/repos/amzn/amazon-marketing-stream-examples/deployments',\n",
       "  'created_at': '2023-02-15T21:33:26Z',\n",
       "  'updated_at': '2024-08-30T17:55:29Z',\n",
       "  'pushed_at': '2024-08-30T17:55:25Z',\n",
       "  'git_url': 'git://github.com/amzn/amazon-marketing-stream-examples.git',\n",
       "  'ssh_url': 'git@github.com:amzn/amazon-marketing-stream-examples.git',\n",
       "  'clone_url': 'https://github.com/amzn/amazon-marketing-stream-examples.git',\n",
       "  'svn_url': 'https://github.com/amzn/amazon-marketing-stream-examples',\n",
       "  'homepage': 'https://advertising.amazon.com/API/docs/en-us/amazon-marketing-stream/overview',\n",
       "  'size': 1078,\n",
       "  'stargazers_count': 10,\n",
       "  'watchers_count': 10,\n",
       "  'language': 'Python',\n",
       "  'has_issues': True,\n",
       "  'has_projects': True,\n",
       "  'has_downloads': True,\n",
       "  'has_wiki': True,\n",
       "  'has_pages': False,\n",
       "  'has_discussions': False,\n",
       "  'forks_count': 12,\n",
       "  'mirror_url': None,\n",
       "  'archived': False,\n",
       "  'disabled': False,\n",
       "  'open_issues_count': 3,\n",
       "  'license': {'key': 'mit-0',\n",
       "   'name': 'MIT No Attribution',\n",
       "   'spdx_id': 'MIT-0',\n",
       "   'url': 'https://api.github.com/licenses/mit-0',\n",
       "   'node_id': 'MDc6TGljZW5zZTQx'},\n",
       "  'allow_forking': True,\n",
       "  'is_template': False,\n",
       "  'web_commit_signoff_required': False,\n",
       "  'topics': ['amazon-ads-api', 'amazon-marketing-stream'],\n",
       "  'visibility': 'public',\n",
       "  'forks': 12,\n",
       "  'open_issues': 3,\n",
       "  'watchers': 10,\n",
       "  'default_branch': 'main'},\n",
       " 'network_count': 12,\n",
       " 'subscribers_count': 0}"
      ]
     },
     "execution_count": 5,
     "metadata": {},
     "output_type": "execute_result"
    }
   ],
   "source": [
    "response = req.post(url,  headers=headers)\n",
    "response.json()\n"
   ]
  },
  {
   "cell_type": "code",
   "execution_count": null,
   "metadata": {},
   "outputs": [],
   "source": []
  }
 ],
 "metadata": {
  "kernelspec": {
   "display_name": "Python 3 (ipykernel)",
   "language": "python",
   "name": "python3"
  },
  "language_info": {
   "codemirror_mode": {
    "name": "ipython",
    "version": 3
   },
   "file_extension": ".py",
   "mimetype": "text/x-python",
   "name": "python",
   "nbconvert_exporter": "python",
   "pygments_lexer": "ipython3",
   "version": "3.12.1"
  }
 },
 "nbformat": 4,
 "nbformat_minor": 4
}
