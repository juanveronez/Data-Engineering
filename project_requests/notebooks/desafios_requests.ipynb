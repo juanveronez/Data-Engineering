{
 "cells": [
  {
   "cell_type": "code",
   "execution_count": 3,
   "metadata": {},
   "outputs": [],
   "source": [
    "import requests as req\n"
   ]
  },
  {
   "cell_type": "markdown",
   "metadata": {},
   "source": [
    "# Desafio 1\n",
    "\n",
    "Faça uma requisição GET à API do Github para obter as informações do perfil de um usuário específico. Para isso, utilize a biblioteca Requests do Python e a URL https://api.github.com/users/{username}, substituindo {username} pelo nome de usuário desejado.\n",
    "\n",
    "Com o objeto response retornado pela requisição, imprima na tela as seguintes informações sobre a requisição:\n",
    "\n",
    "* status code da requisição, para analisar se foi bem sucedida ou não;\n",
    "* conteúdo da requisição, para conferir se os dados de usuário vieram corretamente;\n",
    "* URL da requisição feita, para garantir que a url utilizada na requisição foi a correta.\n",
    "\n",
    "Após conferir isso, analise novamente o conteúdo retornado pela requisição e imprima na tela apenas as seguintes informações sobre a pessoa usuária em questão:\n",
    "\n",
    "* Nome\n",
    "* Nome de usuário\n",
    "* Número de repositórios públicos\n",
    "* Data de criação da conta no GitHub\n"
   ]
  },
  {
   "cell_type": "code",
   "execution_count": 13,
   "metadata": {},
   "outputs": [
    {
     "name": "stdout",
     "output_type": "stream",
     "text": [
      "Abaixo veremos uma request que não vai dar certo por conta do user não existir.\n"
     ]
    },
    {
     "data": {
      "text/plain": [
       "{'message': 'Not Found',\n",
       " 'documentation_url': 'https://docs.github.com/rest',\n",
       " 'status': '404'}"
      ]
     },
     "execution_count": 13,
     "metadata": {},
     "output_type": "execute_result"
    }
   ],
   "source": [
    "username = 'not-valid-user'\n",
    "\n",
    "print('Abaixo veremos uma request que não vai dar certo por conta do user não existir.')\n",
    "\n",
    "req.get(f'https://api.github.com/users/{username}').json()\n"
   ]
  },
  {
   "cell_type": "code",
   "execution_count": 16,
   "metadata": {},
   "outputs": [],
   "source": [
    "username = 'juanveronez'\n",
    "res = req.get(f'https://api.github.com/users/{username}')\n"
   ]
  },
  {
   "cell_type": "code",
   "execution_count": 35,
   "metadata": {},
   "outputs": [
    {
     "name": "stdout",
     "output_type": "stream",
     "text": [
      "Status Code: 200\n",
      "Url: https://api.github.com/users/juanveronez\n",
      "\n",
      "Conteúdo da requisição:\n",
      "{'login': 'juanveronez', 'id': 37226530, 'node_id': 'MDQ6VXNlcjM3MjI2NTMw', 'avatar_url': 'https://avatars.githubusercontent.com/u/37226530?v=4', 'gravatar_id': '', 'url': 'https://api.github.com/users/juanveronez', 'html_url': 'https://github.com/juanveronez', 'followers_url': 'https://api.github.com/users/juanveronez/followers', 'following_url': 'https://api.github.com/users/juanveronez/following{/other_user}', 'gists_url': 'https://api.github.com/users/juanveronez/gists{/gist_id}', 'starred_url': 'https://api.github.com/users/juanveronez/starred{/owner}{/repo}', 'subscriptions_url': 'https://api.github.com/users/juanveronez/subscriptions', 'organizations_url': 'https://api.github.com/users/juanveronez/orgs', 'repos_url': 'https://api.github.com/users/juanveronez/repos', 'events_url': 'https://api.github.com/users/juanveronez/events{/privacy}', 'received_events_url': 'https://api.github.com/users/juanveronez/received_events', 'type': 'User', 'site_admin': False, 'name': 'Juan Veronez', 'company': '@venturus-org', 'blog': 'https://www.linkedin.com/in/juanveronez/', 'location': 'Campinas, São Paulo - Brasil', 'email': None, 'hireable': None, 'bio': 'Data Analyst', 'twitter_username': None, 'public_repos': 8, 'public_gists': 0, 'followers': 13, 'following': 10, 'created_at': '2018-03-09T20:36:08Z', 'updated_at': '2024-09-14T23:42:21Z'}\n"
     ]
    }
   ],
   "source": [
    "print(f'Status Code: {res.status_code}')\n",
    "print(f'Url: {res.url}')\n",
    "print(f'\\nConteúdo da requisição:\\n{res.json()}')\n"
   ]
  },
  {
   "cell_type": "code",
   "execution_count": 28,
   "metadata": {},
   "outputs": [
    {
     "data": {
      "text/plain": [
       "dict"
      ]
     },
     "execution_count": 28,
     "metadata": {},
     "output_type": "execute_result"
    }
   ],
   "source": [
    "json = res.json()\n",
    "type(json)\n"
   ]
  },
  {
   "cell_type": "code",
   "execution_count": 29,
   "metadata": {},
   "outputs": [
    {
     "name": "stdout",
     "output_type": "stream",
     "text": [
      "Nome: Juan Veronez\n",
      "Nome de usuário: juanveronez\n",
      "Número de repositórios públicos: 8\n",
      "Data de criação da conta no GitHub: 2018-03-09T20:36:08Z\n"
     ]
    }
   ],
   "source": [
    "print(f'Nome: {json['name']}')\n",
    "print(f'Nome de usuário: {json['login']}')\n",
    "print(f'Número de repositórios públicos: {json['public_repos']}')\n",
    "print(f'Data de criação da conta no GitHub: {json['created_at']}')\n"
   ]
  },
  {
   "cell_type": "code",
   "execution_count": null,
   "metadata": {},
   "outputs": [],
   "source": []
  }
 ],
 "metadata": {
  "kernelspec": {
   "display_name": "base",
   "language": "python",
   "name": "python3"
  },
  "language_info": {
   "codemirror_mode": {
    "name": "ipython",
    "version": 3
   },
   "file_extension": ".py",
   "mimetype": "text/x-python",
   "name": "python",
   "nbconvert_exporter": "python",
   "pygments_lexer": "ipython3",
   "version": "3.12.4"
  }
 },
 "nbformat": 4,
 "nbformat_minor": 2
}
