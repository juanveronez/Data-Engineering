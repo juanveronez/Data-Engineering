{
 "cells": [
  {
   "cell_type": "markdown",
   "metadata": {},
   "source": [
    "# 01. Conhecendo a Requests\n"
   ]
  },
  {
   "cell_type": "code",
   "execution_count": 1,
   "metadata": {},
   "outputs": [],
   "source": [
    "import requests as req\n"
   ]
  },
  {
   "cell_type": "code",
   "execution_count": 2,
   "metadata": {},
   "outputs": [
    {
     "data": {
      "text/plain": [
       "<Response [200]>"
      ]
     },
     "execution_count": 2,
     "metadata": {},
     "output_type": "execute_result"
    }
   ],
   "source": [
    "res = req.get('https://api.github.com/events')\n",
    "res\n"
   ]
  },
  {
   "cell_type": "markdown",
   "metadata": {},
   "source": [
    "## Explorando a biblioteca\n",
    "\n",
    "Essa biblioteca é usada para fazer requisições HTTP, então tudo o que usamos em requisições Web comuns funcionam aqui!\n",
    "\n",
    "Isso é algo importante de se lembrar pois existem alguns padrões como Methods, Status Code e padrões de requisições que se mantem e existem nessa lib."
   ]
  },
  {
   "cell_type": "code",
   "execution_count": 3,
   "metadata": {},
   "outputs": [
    {
     "data": {
      "text/plain": [
       "200"
      ]
     },
     "execution_count": 3,
     "metadata": {},
     "output_type": "execute_result"
    }
   ],
   "source": [
    "res.status_code\n"
   ]
  },
  {
   "cell_type": "code",
   "execution_count": 4,
   "metadata": {},
   "outputs": [
    {
     "data": {
      "text/plain": [
       "'https://api.github.com/events'"
      ]
     },
     "execution_count": 4,
     "metadata": {},
     "output_type": "execute_result"
    }
   ],
   "source": [
    "res.url\n"
   ]
  },
  {
   "cell_type": "code",
   "execution_count": 5,
   "metadata": {
    "scrolled": true
   },
   "outputs": [
    {
     "name": "stdout",
     "output_type": "stream",
     "text": [
      "Tipo do json response (para esse caso): <class 'list'>\n",
      "Amostra de um item nessa lista:\n"
     ]
    },
    {
     "data": {
      "text/plain": [
       "{'id': '42144356434',\n",
       " 'type': 'PushEvent',\n",
       " 'actor': {'id': 74199667,\n",
       "  'login': 'Chroiud',\n",
       "  'display_login': 'Chroiud',\n",
       "  'gravatar_id': '',\n",
       "  'url': 'https://api.github.com/users/Chroiud',\n",
       "  'avatar_url': 'https://avatars.githubusercontent.com/u/74199667?'},\n",
       " 'repo': {'id': 821590782,\n",
       "  'name': 'Chroiud/playercount',\n",
       "  'url': 'https://api.github.com/repos/Chroiud/playercount'},\n",
       " 'payload': {'repository_id': 821590782,\n",
       "  'push_id': 20348405080,\n",
       "  'size': 1,\n",
       "  'distinct_size': 1,\n",
       "  'ref': 'refs/heads/main',\n",
       "  'head': 'e97dbd40b0171d0dba45ce8e1c79deec1259cb3d',\n",
       "  'before': 'd00175ae817259c7f0a56b2351feafa7e962210a',\n",
       "  'commits': [{'sha': 'e97dbd40b0171d0dba45ce8e1c79deec1259cb3d',\n",
       "    'author': {'email': '74199667+Chroiud@users.noreply.github.com',\n",
       "     'name': 'Chroiud'},\n",
       "    'message': 'Update player count',\n",
       "    'distinct': True,\n",
       "    'url': 'https://api.github.com/repos/Chroiud/playercount/commits/e97dbd40b0171d0dba45ce8e1c79deec1259cb3d'}]},\n",
       " 'public': True,\n",
       " 'created_at': '2024-09-21T19:53:56Z'}"
      ]
     },
     "execution_count": 5,
     "metadata": {},
     "output_type": "execute_result"
    }
   ],
   "source": [
    "print(f'Tipo do json response (para esse caso): {type(res.json())}')\n",
    "print('Amostra de um item nessa lista:')\n",
    "res.json()[0]\n"
   ]
  },
  {
   "cell_type": "markdown",
   "metadata": {},
   "source": [
    "## Usando outras URLs\n",
    "\n",
    "Quando queremos acessar dados diferentes em uma API alteramos a URL que estamos utilizando na requisição. Sendo que é necessário ter uma ideia da documentação da API para saber quais são os dados mais interessantes a serem utilizados.\n",
    "\n",
    "Outro ponto interessante é se atentar a versão da API, uma API pode ter diferentes versões e isso pode impactar no uso de seus endpoints!"
   ]
  },
  {
   "cell_type": "code",
   "execution_count": 6,
   "metadata": {},
   "outputs": [
    {
     "data": {
      "text/plain": [
       "200"
      ]
     },
     "execution_count": 6,
     "metadata": {},
     "output_type": "execute_result"
    }
   ],
   "source": [
    "res = req.get('https://api.github.com/versions')\n",
    "res.status_code\n"
   ]
  },
  {
   "cell_type": "code",
   "execution_count": 7,
   "metadata": {},
   "outputs": [
    {
     "data": {
      "text/plain": [
       "['2022-11-28']"
      ]
     },
     "execution_count": 7,
     "metadata": {},
     "output_type": "execute_result"
    }
   ],
   "source": [
    "res.json()\n"
   ]
  },
  {
   "cell_type": "markdown",
   "metadata": {},
   "source": [
    "Por uma questão de segurança e manutenção de código iremos usar por padrão essa versão da API (2022-11-28), só iremos alterar no futuro a nível de manutençao do projeto.\n",
    "\n",
    "Para isso usamos os headers, que são configurações adicionais que passamos junto com a request."
   ]
  },
  {
   "cell_type": "markdown",
   "metadata": {},
   "source": [
    "# 02. Extraindo os dados"
   ]
  },
  {
   "cell_type": "markdown",
   "metadata": {},
   "source": [
    "## Obtendo dados com GET"
   ]
  },
  {
   "cell_type": "code",
   "execution_count": 8,
   "metadata": {},
   "outputs": [],
   "source": [
    "# especificando a versão da API\n",
    "headers = {'X-GitHub-Api-Version': '2022-11-28'}\n"
   ]
  },
  {
   "cell_type": "code",
   "execution_count": 9,
   "metadata": {},
   "outputs": [],
   "source": [
    "# definicao da api de requisicao dos repos da Amazon\n",
    "api_base_url = 'https://api.github.com'\n",
    "owner = 'amzn'\n",
    "url = f'{api_base_url}/users/{owner}/repos'\n"
   ]
  },
  {
   "cell_type": "code",
   "execution_count": 10,
   "metadata": {},
   "outputs": [
    {
     "data": {
      "text/plain": [
       "200"
      ]
     },
     "execution_count": 10,
     "metadata": {},
     "output_type": "execute_result"
    }
   ],
   "source": [
    "response = req.get(url, headers)\n",
    "response.status_code\n"
   ]
  },
  {
   "cell_type": "code",
   "execution_count": 11,
   "metadata": {},
   "outputs": [
    {
     "data": {
      "text/plain": [
       "30"
      ]
     },
     "execution_count": 11,
     "metadata": {},
     "output_type": "execute_result"
    }
   ],
   "source": [
    "amzn_repos = response.json()\n",
    "len(amzn_repos)\n"
   ]
  },
  {
   "cell_type": "markdown",
   "metadata": {},
   "source": [
    "Só conseguimos acessar 30 repos pois esse endpoint tem paginação. Para conseguirmos acessar mais repos precisamos nos autenticar. Esse é um requisito dessa API."
   ]
  },
  {
   "cell_type": "markdown",
   "metadata": {},
   "source": [
    "## Autenticação\n",
    "\n",
    "Solicitações autenticadas têm um limite de taxa mais alto. Quando um usuário faz uma solicitação autenticada, ele fornece credenciais que comprovam sua identidade, o que permite que a API confie nele e lhe conceda acesso a recursos e funcionalidades adicionais.\n",
    "\n",
    "Além disso, a maioria das APIs estabelece limites para o número de solicitações que um usuário pode fazer em um determinado período de tempo, conhecido como 'limite de taxa'. Quando um usuário faz solicitações autenticadas, a API geralmente permite que ele faça mais solicitações em um determinado período de tempo, devido à maior confiança e credibilidade que a autenticação fornece."
   ]
  },
  {
   "cell_type": "code",
   "execution_count": 12,
   "metadata": {},
   "outputs": [
    {
     "name": "stdout",
     "output_type": "stream",
     "text": [
      "Requirement already satisfied: python-dotenv in /home/codespace/.python/current/lib/python3.12/site-packages (1.0.1)\n",
      "Note: you may need to restart the kernel to use updated packages.\n"
     ]
    }
   ],
   "source": [
    "%pip install python-dotenv\n"
   ]
  },
  {
   "cell_type": "code",
   "execution_count": 13,
   "metadata": {},
   "outputs": [],
   "source": [
    "from os import getenv\n",
    "from dotenv import load_dotenv\n",
    "\n",
    "load_dotenv()\n",
    "\n",
    "access_token = getenv('GITHUB_ACCESS_TOKEN')\n",
    "headers['Authorization'] = f'Bearer {access_token}'\n"
   ]
  },
  {
   "cell_type": "markdown",
   "metadata": {},
   "source": [
    "## Paginando os repositórios"
   ]
  },
  {
   "cell_type": "code",
   "execution_count": 15,
   "metadata": {},
   "outputs": [],
   "source": [
    "response = req.get(url, headers)\n"
   ]
  },
  {
   "cell_type": "code",
   "execution_count": 16,
   "metadata": {},
   "outputs": [],
   "source": [
    "api_base_url = 'https://api.github.com'\n",
    "owner = 'amzn'\n",
    "url = f'{api_base_url}/users/{owner}/repos'\n"
   ]
  },
  {
   "cell_type": "code",
   "execution_count": 17,
   "metadata": {},
   "outputs": [],
   "source": [
    "repos_list = []\n",
    "for page_index in range(1,7):\n",
    "    try:\n",
    "        url_page = f'{url}?page={page_index}'\n",
    "        repos = req.get(url_page, headers).json()\n",
    "        \n",
    "        repos_list.append(repos)\n",
    "    except:\n",
    "        print('Error while getting repos')\n",
    "        repos_list.append(None)\n"
   ]
  },
  {
   "cell_type": "markdown",
   "metadata": {},
   "source": [
    "repos_list"
   ]
  },
  {
   "cell_type": "markdown",
   "metadata": {},
   "source": [
    "# 03. Transformando os dados"
   ]
  },
  {
   "cell_type": "markdown",
   "metadata": {},
   "source": [
    "## Nomes dos repositórios"
   ]
  },
  {
   "cell_type": "code",
   "execution_count": 18,
   "metadata": {
    "scrolled": true
   },
   "outputs": [
    {
     "data": {
      "text/plain": [
       "'ads-pao-amznjs-gtm-template'"
      ]
     },
     "execution_count": 18,
     "metadata": {},
     "output_type": "execute_result"
    }
   ],
   "source": [
    "repos_list[0][2]['name']\n"
   ]
  },
  {
   "cell_type": "code",
   "execution_count": 19,
   "metadata": {
    "scrolled": true
   },
   "outputs": [
    {
     "name": "stdout",
     "output_type": "stream",
     "text": [
      "Total de repos: 159\n"
     ]
    },
    {
     "data": {
      "text/plain": [
       "['.github',\n",
       " 'ads-advanced-tools-docs',\n",
       " 'ads-pao-amznjs-gtm-template',\n",
       " 'alexa-coho',\n",
       " 'alexa-skills-kit-js',\n",
       " 'amazon-ads-advertiser-audience-normalization-sdk-py',\n",
       " 'amazon-advertising-api-php-sdk',\n",
       " 'amazon-codeguru-profiler-for-spark',\n",
       " 'amazon-frustration-free-setup-certification-tool',\n",
       " 'amazon-hub-counter-api-docs']"
      ]
     },
     "execution_count": 19,
     "metadata": {},
     "output_type": "execute_result"
    }
   ],
   "source": [
    "# repos_name = []\n",
    "\n",
    "# for page in repos_list:\n",
    "#     for repo in page:\n",
    "#         repos_name.append(repo['name'])\n",
    "\n",
    "repos_name = [repo['name'] for repos in repos_list for repo in repos]\n",
    "\n",
    "print('Total de repos:', len(repos_name))\n",
    "repos_name[:10]\n"
   ]
  },
  {
   "cell_type": "markdown",
   "metadata": {},
   "source": [
    "## Linguagens utilizadas"
   ]
  },
  {
   "cell_type": "code",
   "execution_count": 20,
   "metadata": {},
   "outputs": [
    {
     "data": {
      "text/plain": [
       "'Smarty'"
      ]
     },
     "execution_count": 20,
     "metadata": {},
     "output_type": "execute_result"
    }
   ],
   "source": [
    "repos_list[0][2]['language']\n"
   ]
  },
  {
   "cell_type": "code",
   "execution_count": 21,
   "metadata": {
    "scrolled": true
   },
   "outputs": [
    {
     "data": {
      "text/plain": [
       "[None,\n",
       " 'Jupyter Notebook',\n",
       " 'Smarty',\n",
       " 'JavaScript',\n",
       " None,\n",
       " 'Python',\n",
       " 'PHP',\n",
       " 'Java',\n",
       " 'Python',\n",
       " 'CSS']"
      ]
     },
     "execution_count": 21,
     "metadata": {},
     "output_type": "execute_result"
    }
   ],
   "source": [
    "repos_language = [repo['language'] for repos in repos_list for repo in repos]\n",
    "\n",
    "repos_language[:10]\n"
   ]
  },
  {
   "cell_type": "markdown",
   "metadata": {},
   "source": [
    "## Criando um DataFrame"
   ]
  },
  {
   "cell_type": "code",
   "execution_count": 22,
   "metadata": {},
   "outputs": [],
   "source": [
    "import pandas as pd\n"
   ]
  },
  {
   "cell_type": "code",
   "execution_count": 23,
   "metadata": {},
   "outputs": [
    {
     "data": {
      "text/html": [
       "<div>\n",
       "<style scoped>\n",
       "    .dataframe tbody tr th:only-of-type {\n",
       "        vertical-align: middle;\n",
       "    }\n",
       "\n",
       "    .dataframe tbody tr th {\n",
       "        vertical-align: top;\n",
       "    }\n",
       "\n",
       "    .dataframe thead th {\n",
       "        text-align: right;\n",
       "    }\n",
       "</style>\n",
       "<table border=\"1\" class=\"dataframe\">\n",
       "  <thead>\n",
       "    <tr style=\"text-align: right;\">\n",
       "      <th></th>\n",
       "      <th>repository_name</th>\n",
       "      <th>language</th>\n",
       "    </tr>\n",
       "  </thead>\n",
       "  <tbody>\n",
       "    <tr>\n",
       "      <th>0</th>\n",
       "      <td>.github</td>\n",
       "      <td>None</td>\n",
       "    </tr>\n",
       "    <tr>\n",
       "      <th>1</th>\n",
       "      <td>ads-advanced-tools-docs</td>\n",
       "      <td>Jupyter Notebook</td>\n",
       "    </tr>\n",
       "    <tr>\n",
       "      <th>2</th>\n",
       "      <td>ads-pao-amznjs-gtm-template</td>\n",
       "      <td>Smarty</td>\n",
       "    </tr>\n",
       "    <tr>\n",
       "      <th>3</th>\n",
       "      <td>alexa-coho</td>\n",
       "      <td>JavaScript</td>\n",
       "    </tr>\n",
       "    <tr>\n",
       "      <th>4</th>\n",
       "      <td>alexa-skills-kit-js</td>\n",
       "      <td>None</td>\n",
       "    </tr>\n",
       "  </tbody>\n",
       "</table>\n",
       "</div>"
      ],
      "text/plain": [
       "               repository_name          language\n",
       "0                      .github              None\n",
       "1      ads-advanced-tools-docs  Jupyter Notebook\n",
       "2  ads-pao-amznjs-gtm-template            Smarty\n",
       "3                   alexa-coho        JavaScript\n",
       "4          alexa-skills-kit-js              None"
      ]
     },
     "execution_count": 23,
     "metadata": {},
     "output_type": "execute_result"
    }
   ],
   "source": [
    "dados_amzn = pd.DataFrame()\n",
    "\n",
    "dados_amzn['repository_name'] = repos_name\n",
    "dados_amzn['language'] = repos_language\n",
    "\n",
    "dados_amzn.head()\n"
   ]
  },
  {
   "cell_type": "code",
   "execution_count": 24,
   "metadata": {},
   "outputs": [],
   "source": [
    "dados_amzn.to_csv('../data_processed/amazon_repos.csv', index=False) \n",
    "# index=False foi usado para que o indice nao seja salvo\n"
   ]
  },
  {
   "cell_type": "markdown",
   "metadata": {},
   "source": [
    "# 04. Armazenando os dados\n"
   ]
  },
  {
   "cell_type": "markdown",
   "metadata": {},
   "source": [
    "## Criando repositório com POST\n"
   ]
  },
  {
   "cell_type": "code",
   "execution_count": 25,
   "metadata": {},
   "outputs": [
    {
     "data": {
      "text/plain": [
       "'https://api.github.com/user/repos'"
      ]
     },
     "execution_count": 25,
     "metadata": {},
     "output_type": "execute_result"
    }
   ],
   "source": [
    "url = f'{api_base_url}/user/repos'\n",
    "\n",
    "url\n"
   ]
  },
  {
   "cell_type": "code",
   "execution_count": 28,
   "metadata": {},
   "outputs": [
    {
     "name": "stdout",
     "output_type": "stream",
     "text": [
      "Status code: 201\n"
     ]
    },
    {
     "data": {
      "text/plain": [
       "{'id': 861027843,\n",
       " 'node_id': 'R_kgDOM1I-Aw',\n",
       " 'name': 'linguagens-utilizadas',\n",
       " 'full_name': 'juanveronez/linguagens-utilizadas',\n",
       " 'private': True,\n",
       " 'owner': {'login': 'juanveronez',\n",
       "  'id': 37226530,\n",
       "  'node_id': 'MDQ6VXNlcjM3MjI2NTMw',\n",
       "  'avatar_url': 'https://avatars.githubusercontent.com/u/37226530?v=4',\n",
       "  'gravatar_id': '',\n",
       "  'url': 'https://api.github.com/users/juanveronez',\n",
       "  'html_url': 'https://github.com/juanveronez',\n",
       "  'followers_url': 'https://api.github.com/users/juanveronez/followers',\n",
       "  'following_url': 'https://api.github.com/users/juanveronez/following{/other_user}',\n",
       "  'gists_url': 'https://api.github.com/users/juanveronez/gists{/gist_id}',\n",
       "  'starred_url': 'https://api.github.com/users/juanveronez/starred{/owner}{/repo}',\n",
       "  'subscriptions_url': 'https://api.github.com/users/juanveronez/subscriptions',\n",
       "  'organizations_url': 'https://api.github.com/users/juanveronez/orgs',\n",
       "  'repos_url': 'https://api.github.com/users/juanveronez/repos',\n",
       "  'events_url': 'https://api.github.com/users/juanveronez/events{/privacy}',\n",
       "  'received_events_url': 'https://api.github.com/users/juanveronez/received_events',\n",
       "  'type': 'User',\n",
       "  'site_admin': False},\n",
       " 'html_url': 'https://github.com/juanveronez/linguagens-utilizadas',\n",
       " 'description': 'Repositorio com as linguagens de prog. da Amazon',\n",
       " 'fork': False,\n",
       " 'url': 'https://api.github.com/repos/juanveronez/linguagens-utilizadas',\n",
       " 'forks_url': 'https://api.github.com/repos/juanveronez/linguagens-utilizadas/forks',\n",
       " 'keys_url': 'https://api.github.com/repos/juanveronez/linguagens-utilizadas/keys{/key_id}',\n",
       " 'collaborators_url': 'https://api.github.com/repos/juanveronez/linguagens-utilizadas/collaborators{/collaborator}',\n",
       " 'teams_url': 'https://api.github.com/repos/juanveronez/linguagens-utilizadas/teams',\n",
       " 'hooks_url': 'https://api.github.com/repos/juanveronez/linguagens-utilizadas/hooks',\n",
       " 'issue_events_url': 'https://api.github.com/repos/juanveronez/linguagens-utilizadas/issues/events{/number}',\n",
       " 'events_url': 'https://api.github.com/repos/juanveronez/linguagens-utilizadas/events',\n",
       " 'assignees_url': 'https://api.github.com/repos/juanveronez/linguagens-utilizadas/assignees{/user}',\n",
       " 'branches_url': 'https://api.github.com/repos/juanveronez/linguagens-utilizadas/branches{/branch}',\n",
       " 'tags_url': 'https://api.github.com/repos/juanveronez/linguagens-utilizadas/tags',\n",
       " 'blobs_url': 'https://api.github.com/repos/juanveronez/linguagens-utilizadas/git/blobs{/sha}',\n",
       " 'git_tags_url': 'https://api.github.com/repos/juanveronez/linguagens-utilizadas/git/tags{/sha}',\n",
       " 'git_refs_url': 'https://api.github.com/repos/juanveronez/linguagens-utilizadas/git/refs{/sha}',\n",
       " 'trees_url': 'https://api.github.com/repos/juanveronez/linguagens-utilizadas/git/trees{/sha}',\n",
       " 'statuses_url': 'https://api.github.com/repos/juanveronez/linguagens-utilizadas/statuses/{sha}',\n",
       " 'languages_url': 'https://api.github.com/repos/juanveronez/linguagens-utilizadas/languages',\n",
       " 'stargazers_url': 'https://api.github.com/repos/juanveronez/linguagens-utilizadas/stargazers',\n",
       " 'contributors_url': 'https://api.github.com/repos/juanveronez/linguagens-utilizadas/contributors',\n",
       " 'subscribers_url': 'https://api.github.com/repos/juanveronez/linguagens-utilizadas/subscribers',\n",
       " 'subscription_url': 'https://api.github.com/repos/juanveronez/linguagens-utilizadas/subscription',\n",
       " 'commits_url': 'https://api.github.com/repos/juanveronez/linguagens-utilizadas/commits{/sha}',\n",
       " 'git_commits_url': 'https://api.github.com/repos/juanveronez/linguagens-utilizadas/git/commits{/sha}',\n",
       " 'comments_url': 'https://api.github.com/repos/juanveronez/linguagens-utilizadas/comments{/number}',\n",
       " 'issue_comment_url': 'https://api.github.com/repos/juanveronez/linguagens-utilizadas/issues/comments{/number}',\n",
       " 'contents_url': 'https://api.github.com/repos/juanveronez/linguagens-utilizadas/contents/{+path}',\n",
       " 'compare_url': 'https://api.github.com/repos/juanveronez/linguagens-utilizadas/compare/{base}...{head}',\n",
       " 'merges_url': 'https://api.github.com/repos/juanveronez/linguagens-utilizadas/merges',\n",
       " 'archive_url': 'https://api.github.com/repos/juanveronez/linguagens-utilizadas/{archive_format}{/ref}',\n",
       " 'downloads_url': 'https://api.github.com/repos/juanveronez/linguagens-utilizadas/downloads',\n",
       " 'issues_url': 'https://api.github.com/repos/juanveronez/linguagens-utilizadas/issues{/number}',\n",
       " 'pulls_url': 'https://api.github.com/repos/juanveronez/linguagens-utilizadas/pulls{/number}',\n",
       " 'milestones_url': 'https://api.github.com/repos/juanveronez/linguagens-utilizadas/milestones{/number}',\n",
       " 'notifications_url': 'https://api.github.com/repos/juanveronez/linguagens-utilizadas/notifications{?since,all,participating}',\n",
       " 'labels_url': 'https://api.github.com/repos/juanveronez/linguagens-utilizadas/labels{/name}',\n",
       " 'releases_url': 'https://api.github.com/repos/juanveronez/linguagens-utilizadas/releases{/id}',\n",
       " 'deployments_url': 'https://api.github.com/repos/juanveronez/linguagens-utilizadas/deployments',\n",
       " 'created_at': '2024-09-21T20:00:19Z',\n",
       " 'updated_at': '2024-09-21T20:00:19Z',\n",
       " 'pushed_at': '2024-09-21T20:00:19Z',\n",
       " 'git_url': 'git://github.com/juanveronez/linguagens-utilizadas.git',\n",
       " 'ssh_url': 'git@github.com:juanveronez/linguagens-utilizadas.git',\n",
       " 'clone_url': 'https://github.com/juanveronez/linguagens-utilizadas.git',\n",
       " 'svn_url': 'https://github.com/juanveronez/linguagens-utilizadas',\n",
       " 'homepage': None,\n",
       " 'size': 0,\n",
       " 'stargazers_count': 0,\n",
       " 'watchers_count': 0,\n",
       " 'language': None,\n",
       " 'has_issues': True,\n",
       " 'has_projects': True,\n",
       " 'has_downloads': True,\n",
       " 'has_wiki': True,\n",
       " 'has_pages': False,\n",
       " 'has_discussions': False,\n",
       " 'forks_count': 0,\n",
       " 'mirror_url': None,\n",
       " 'archived': False,\n",
       " 'disabled': False,\n",
       " 'open_issues_count': 0,\n",
       " 'license': None,\n",
       " 'allow_forking': True,\n",
       " 'is_template': False,\n",
       " 'web_commit_signoff_required': False,\n",
       " 'topics': [],\n",
       " 'visibility': 'private',\n",
       " 'forks': 0,\n",
       " 'open_issues': 0,\n",
       " 'watchers': 0,\n",
       " 'default_branch': 'main',\n",
       " 'permissions': {'admin': True,\n",
       "  'maintain': True,\n",
       "  'push': True,\n",
       "  'triage': True,\n",
       "  'pull': True},\n",
       " 'allow_squash_merge': True,\n",
       " 'allow_merge_commit': True,\n",
       " 'allow_rebase_merge': True,\n",
       " 'allow_auto_merge': False,\n",
       " 'delete_branch_on_merge': False,\n",
       " 'allow_update_branch': False,\n",
       " 'use_squash_pr_title_as_default': False,\n",
       " 'squash_merge_commit_message': 'COMMIT_MESSAGES',\n",
       " 'squash_merge_commit_title': 'COMMIT_OR_PR_TITLE',\n",
       " 'merge_commit_message': 'PR_TITLE',\n",
       " 'merge_commit_title': 'MERGE_MESSAGE',\n",
       " 'network_count': 0,\n",
       " 'subscribers_count': 0}"
      ]
     },
     "execution_count": 28,
     "metadata": {},
     "output_type": "execute_result"
    }
   ],
   "source": [
    "data = {\n",
    "    'name': 'linguagens-utilizadas',\n",
    "    'description': 'Repositorio com as linguagens de prog. da Amazon',\n",
    "    'private': True\n",
    "}\n",
    "\n",
    "request = req.post(url, json=data, headers=headers)\n",
    "print('Status code:', request.status_code)\n",
    "request.json()\n"
   ]
  },
  {
   "cell_type": "code",
   "execution_count": null,
   "metadata": {},
   "outputs": [],
   "source": []
  }
 ],
 "metadata": {
  "kernelspec": {
   "display_name": "Python 3 (ipykernel)",
   "language": "python",
   "name": "python3"
  },
  "language_info": {
   "codemirror_mode": {
    "name": "ipython",
    "version": 3
   },
   "file_extension": ".py",
   "mimetype": "text/x-python",
   "name": "python",
   "nbconvert_exporter": "python",
   "pygments_lexer": "ipython3",
   "version": "3.12.1"
  }
 },
 "nbformat": 4,
 "nbformat_minor": 4
}
